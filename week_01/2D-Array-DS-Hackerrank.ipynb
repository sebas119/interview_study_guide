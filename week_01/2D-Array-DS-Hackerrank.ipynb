{
 "cells": [
  {
   "cell_type": "code",
   "execution_count": 2,
   "metadata": {},
   "outputs": [],
   "source": [
    "def hourglassSum(arr):\n",
    "    resul = -63\n",
    "    for i in range(4):\n",
    "        for j in range(4):\n",
    "           ans = 0\n",
    "           ans += arr[i][j] + arr[i][j+1] + arr[i][j+2]\n",
    "           ans += arr[i+1][j+1]\n",
    "           ans += arr[i+2][j] + arr[i+2][j+1] + arr[i+2][j+2]\n",
    "           if ans > resul:\n",
    "            resul = ans\n",
    "    return resul"
   ]
  },
  {
   "cell_type": "code",
   "execution_count": null,
   "metadata": {},
   "outputs": [],
   "source": []
  },
  {
   "cell_type": "code",
   "execution_count": null,
   "metadata": {},
   "outputs": [],
   "source": []
  }
 ],
 "metadata": {
  "kernelspec": {
   "display_name": "Python 3",
   "language": "python",
   "name": "python3"
  },
  "language_info": {
   "codemirror_mode": {
    "name": "ipython",
    "version": 3
   },
   "file_extension": ".py",
   "mimetype": "text/x-python",
   "name": "python",
   "nbconvert_exporter": "python",
   "pygments_lexer": "ipython3",
   "version": "3.7.4"
  }
 },
 "nbformat": 4,
 "nbformat_minor": 4
}
